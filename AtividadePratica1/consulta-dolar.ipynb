{
 "cells": [
  {
   "cell_type": "code",
   "execution_count": 2,
   "id": "be0454c6",
   "metadata": {},
   "outputs": [],
   "source": [
    "import pandas as pd\n",
    "import requests\n",
    "import json"
   ]
  },
  {
   "cell_type": "code",
   "execution_count": 3,
   "id": "11f3ee1d",
   "metadata": {},
   "outputs": [],
   "source": [
    "def requisicao_api(link):\n",
    "  resposta = requests.get(link)\n",
    "\n",
    "  if resposta.status_code == 200:      #sucesso na requisição\n",
    "    dados = resposta.json()\n",
    "    print('Status Code:', resposta.status_code)\n",
    "    with open('resultado.json', 'w', encoding='utf-8') as arquivo:   #salvar arquivo json\n",
    "      json.dump(dados, arquivo, ensure_ascii=False, indent=4)\n",
    "\n",
    "  else:\n",
    "    print('Status Code:', resposta.status_code)"
   ]
  },
  {
   "cell_type": "markdown",
   "id": "ab32ffbc",
   "metadata": {},
   "source": [
    "# Exemplo 1 – Cotação do dólar em uma data específica (15/03/2024)"
   ]
  },
  {
   "cell_type": "markdown",
   "id": "0a74cc50",
   "metadata": {},
   "source": [
    "## Determine a url fornecida:"
   ]
  },
  {
   "cell_type": "code",
   "execution_count": 36,
   "id": "b2df7500",
   "metadata": {},
   "outputs": [],
   "source": [
    "url = \"https://olinda.bcb.gov.br/olinda/servico/PTAX/versao/v1/odata/CotacaoDolarDia(dataCotacao=@dataCotacao)?@dataCotacao='03-15-2024'&$top=100000&$format=json&$select=cotacaoCompra,cotacaoVenda,dataHoraCotacao\""
   ]
  },
  {
   "cell_type": "markdown",
   "id": "a866d63e",
   "metadata": {},
   "source": [
    "## Chamar função passando o link gerado pela interface da API:"
   ]
  },
  {
   "cell_type": "code",
   "execution_count": 37,
   "id": "609f4e2f",
   "metadata": {},
   "outputs": [
    {
     "name": "stdout",
     "output_type": "stream",
     "text": [
      "Status Code: 200\n"
     ]
    }
   ],
   "source": [
    "requisicao_api(url)"
   ]
  },
  {
   "cell_type": "markdown",
   "id": "09d44112",
   "metadata": {},
   "source": [
    "## Convertendo em DataFrame"
   ]
  },
  {
   "cell_type": "code",
   "execution_count": 39,
   "id": "e1a74a45",
   "metadata": {},
   "outputs": [],
   "source": [
    "jsondata = pd.read_json('resultado.json')\n",
    "jsondata\n",
    "data = jsondata['value']"
   ]
  },
  {
   "cell_type": "markdown",
   "id": "ce37cd2f",
   "metadata": {},
   "source": [
    "## Normalizando os dados"
   ]
  },
  {
   "cell_type": "code",
   "execution_count": 25,
   "id": "ae8b93a6",
   "metadata": {},
   "outputs": [],
   "source": [
    "dados_df = pd.json_normalize(data)"
   ]
  },
  {
   "cell_type": "markdown",
   "id": "95ef8cab",
   "metadata": {},
   "source": [
    "## Exibindo os primeiros valores do DataFrame\n"
   ]
  },
  {
   "cell_type": "code",
   "execution_count": 26,
   "id": "f617c97a",
   "metadata": {},
   "outputs": [
    {
     "data": {
      "text/html": [
       "<div>\n",
       "<style scoped>\n",
       "    .dataframe tbody tr th:only-of-type {\n",
       "        vertical-align: middle;\n",
       "    }\n",
       "\n",
       "    .dataframe tbody tr th {\n",
       "        vertical-align: top;\n",
       "    }\n",
       "\n",
       "    .dataframe thead th {\n",
       "        text-align: right;\n",
       "    }\n",
       "</style>\n",
       "<table border=\"1\" class=\"dataframe\">\n",
       "  <thead>\n",
       "    <tr style=\"text-align: right;\">\n",
       "      <th></th>\n",
       "      <th>cotacaoCompra</th>\n",
       "      <th>cotacaoVenda</th>\n",
       "      <th>dataHoraCotacao</th>\n",
       "    </tr>\n",
       "  </thead>\n",
       "  <tbody>\n",
       "    <tr>\n",
       "      <th>0</th>\n",
       "      <td>4.9931</td>\n",
       "      <td>4.9937</td>\n",
       "      <td>2024-03-15 15:16:04.201</td>\n",
       "    </tr>\n",
       "  </tbody>\n",
       "</table>\n",
       "</div>"
      ],
      "text/plain": [
       "   cotacaoCompra  cotacaoVenda          dataHoraCotacao\n",
       "0         4.9931        4.9937  2024-03-15 15:16:04.201"
      ]
     },
     "execution_count": 26,
     "metadata": {},
     "output_type": "execute_result"
    }
   ],
   "source": [
    "dados_df.head()"
   ]
  },
  {
   "cell_type": "markdown",
   "id": "f5e93600",
   "metadata": {},
   "source": [
    "# Exemplo 2 – Cotação do dólar em um período (01/01/2023 até 31/07/2024)"
   ]
  },
  {
   "cell_type": "markdown",
   "id": "075aa1fe",
   "metadata": {},
   "source": [
    "## Determinar a url fornecida:"
   ]
  },
  {
   "cell_type": "code",
   "execution_count": 29,
   "id": "39b05981",
   "metadata": {},
   "outputs": [],
   "source": [
    "url = \"https://olinda.bcb.gov.br/olinda/servico/PTAX/versao/v1/odata/CotacaoDolarPeriodo(dataInicial=@dataInicial,dataFinalCotacao=@dataFinalCotacao)?@dataInicial='01-01-2023'&@dataFinalCotacao='07-31-2025'&$top=500000&$format=json&$select=cotacaoCompra,cotacaoVenda,dataHoraCotacao\""
   ]
  },
  {
   "cell_type": "markdown",
   "id": "c72c528e",
   "metadata": {},
   "source": [
    "## Chamar função passando o link gerado pela interface da API:"
   ]
  },
  {
   "cell_type": "code",
   "execution_count": 30,
   "id": "adf7cf7f",
   "metadata": {},
   "outputs": [
    {
     "name": "stdout",
     "output_type": "stream",
     "text": [
      "Status Code: 200\n"
     ]
    }
   ],
   "source": [
    "requisicao_api(url)"
   ]
  },
  {
   "cell_type": "markdown",
   "id": "c127888a",
   "metadata": {},
   "source": [
    "## Convertendo em DataFrame"
   ]
  },
  {
   "cell_type": "code",
   "execution_count": 33,
   "id": "5ae40426",
   "metadata": {},
   "outputs": [],
   "source": [
    "jsondata = pd.read_json('resultado.json')\n",
    "jsondata\n",
    "data = jsondata['value']"
   ]
  },
  {
   "cell_type": "markdown",
   "id": "ce77e557",
   "metadata": {},
   "source": [
    "## Normalizando os dados"
   ]
  },
  {
   "cell_type": "code",
   "execution_count": 34,
   "id": "0a9d92a0",
   "metadata": {},
   "outputs": [],
   "source": [
    "dados_df = pd.json_normalize(data)"
   ]
  },
  {
   "cell_type": "markdown",
   "id": "2edcf332",
   "metadata": {},
   "source": [
    "## Exibindo os primeiros valores do DataFrame"
   ]
  },
  {
   "cell_type": "code",
   "execution_count": 35,
   "id": "8cb0654e",
   "metadata": {},
   "outputs": [
    {
     "data": {
      "text/html": [
       "<div>\n",
       "<style scoped>\n",
       "    .dataframe tbody tr th:only-of-type {\n",
       "        vertical-align: middle;\n",
       "    }\n",
       "\n",
       "    .dataframe tbody tr th {\n",
       "        vertical-align: top;\n",
       "    }\n",
       "\n",
       "    .dataframe thead th {\n",
       "        text-align: right;\n",
       "    }\n",
       "</style>\n",
       "<table border=\"1\" class=\"dataframe\">\n",
       "  <thead>\n",
       "    <tr style=\"text-align: right;\">\n",
       "      <th></th>\n",
       "      <th>cotacaoCompra</th>\n",
       "      <th>cotacaoVenda</th>\n",
       "      <th>dataHoraCotacao</th>\n",
       "    </tr>\n",
       "  </thead>\n",
       "  <tbody>\n",
       "    <tr>\n",
       "      <th>0</th>\n",
       "      <td>5.3430</td>\n",
       "      <td>5.3436</td>\n",
       "      <td>2023-01-02 13:05:57.593</td>\n",
       "    </tr>\n",
       "    <tr>\n",
       "      <th>1</th>\n",
       "      <td>5.3753</td>\n",
       "      <td>5.3759</td>\n",
       "      <td>2023-01-03 13:11:19.08</td>\n",
       "    </tr>\n",
       "    <tr>\n",
       "      <th>2</th>\n",
       "      <td>5.4453</td>\n",
       "      <td>5.4459</td>\n",
       "      <td>2023-01-04 13:09:19.572</td>\n",
       "    </tr>\n",
       "    <tr>\n",
       "      <th>3</th>\n",
       "      <td>5.4020</td>\n",
       "      <td>5.4026</td>\n",
       "      <td>2023-01-05 13:03:32.262</td>\n",
       "    </tr>\n",
       "    <tr>\n",
       "      <th>4</th>\n",
       "      <td>5.2849</td>\n",
       "      <td>5.2855</td>\n",
       "      <td>2023-01-06 13:02:28.727</td>\n",
       "    </tr>\n",
       "  </tbody>\n",
       "</table>\n",
       "</div>"
      ],
      "text/plain": [
       "   cotacaoCompra  cotacaoVenda          dataHoraCotacao\n",
       "0         5.3430        5.3436  2023-01-02 13:05:57.593\n",
       "1         5.3753        5.3759   2023-01-03 13:11:19.08\n",
       "2         5.4453        5.4459  2023-01-04 13:09:19.572\n",
       "3         5.4020        5.4026  2023-01-05 13:03:32.262\n",
       "4         5.2849        5.2855  2023-01-06 13:02:28.727"
      ]
     },
     "execution_count": 35,
     "metadata": {},
     "output_type": "execute_result"
    }
   ],
   "source": [
    "dados_df.head()"
   ]
  }
 ],
 "metadata": {
  "kernelspec": {
   "display_name": ".venv",
   "language": "python",
   "name": "python3"
  },
  "language_info": {
   "codemirror_mode": {
    "name": "ipython",
    "version": 3
   },
   "file_extension": ".py",
   "mimetype": "text/x-python",
   "name": "python",
   "nbconvert_exporter": "python",
   "pygments_lexer": "ipython3",
   "version": "3.13.7"
  }
 },
 "nbformat": 4,
 "nbformat_minor": 5
}
