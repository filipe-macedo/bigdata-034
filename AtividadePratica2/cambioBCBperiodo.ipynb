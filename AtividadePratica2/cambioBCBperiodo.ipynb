{
 "cells": [
  {
   "cell_type": "markdown",
   "id": "9331f86a",
   "metadata": {},
   "source": [
    "## Dólar comercial (venda e compra) - cotações diárias e Taxas de Câmbio - todos os boletins diários - v1"
   ]
  },
  {
   "cell_type": "markdown",
   "id": "abdf1ea9",
   "metadata": {},
   "source": [
    "- Retorna a Cotação de Compra e a Cotação de Venda da moeda Dólar contra a unidade monetária corrente para o período informado.\n",
    "\n",
    "*Resultado*\n",
    "\n",
    "| Nome           | Tipo    | Título          | Descrição                                                                                           |\n",
    "|----------------|---------|-----------------|---------------------------------------------------------------------------------------------------|\n",
    "| cotacaoCompra  | decimal | Cotação de compra| Cotação de compra do dólar contra a unidade monetária corrente: unidade monetária corrente/dólar americano. |\n",
    "| cotacaoVenda   | decimal | Cotação de venda | Cotação de venda do dólar contra a unidade monetária corrente: unidade monetária corrente/dólar americano. |\n",
    "| dataHoraCotacao| texto   | Data e hora da cotação | Data, hora e minuto das cotações de compra e venda.                                               |"
   ]
  },
  {
   "cell_type": "markdown",
   "id": "a0f917d8",
   "metadata": {},
   "source": [
    "### 1. Importando bibliotecas necessárias"
   ]
  },
  {
   "cell_type": "code",
   "execution_count": 108,
   "id": "b2fa1c26",
   "metadata": {},
   "outputs": [],
   "source": [
    "import pandas as pd  #possibilita manipulação e análise de dados\n",
    "import requests #possibilita integração com serviços web, solicitações HTTP consumir dados de APIs\n",
    "import json  #manipular arquivo json"
   ]
  },
  {
   "cell_type": "markdown",
   "id": "512cae05",
   "metadata": {},
   "source": [
    "### 2. Definindo a URL para a requisição da API"
   ]
  },
  {
   "cell_type": "code",
   "execution_count": 109,
   "id": "ed83e0a8",
   "metadata": {},
   "outputs": [],
   "source": [
    "url = \"https://olinda.bcb.gov.br/olinda/servico/PTAX/versao/v1/odata/CotacaoDolarPeriodo(dataInicial=@dataInicial,dataFinalCotacao=@dataFinalCotacao)?@dataInicial='01-01-2023'&@dataFinalCotacao='07-31-2025'&$top=500000&$format=json&$select=cotacaoCompra,cotacaoVenda,dataHoraCotacao\""
   ]
  },
  {
   "cell_type": "markdown",
   "id": "05a3f9c8",
   "metadata": {},
   "source": [
    "### 3. Criando a função para fazer a requisição e salvar o JSON na pasta Datasets"
   ]
  },
  {
   "cell_type": "code",
   "execution_count": 110,
   "id": "2bff69ab",
   "metadata": {},
   "outputs": [],
   "source": [
    "def requisicao_api(link):\n",
    "  resposta = requests.get(link)\n",
    "\n",
    "  if resposta.status_code == 200:      #sucesso na requisição\n",
    "    dados = resposta.json()\n",
    "    print('Status Code:', resposta.status_code)\n",
    "    with open('datasets/resultadoPeriodo.json', 'w', encoding='utf-8') as arquivo:   #salvar arquivo json\n",
    "      json.dump(dados, arquivo, ensure_ascii=False, indent=4)\n",
    "\n",
    "  else:\n",
    "    print('Status Code:', resposta.status_code)"
   ]
  },
  {
   "cell_type": "markdown",
   "id": "8b0d179b",
   "metadata": {},
   "source": [
    "### 4. Executando a função para buscar os dados"
   ]
  },
  {
   "cell_type": "code",
   "execution_count": 111,
   "id": "964b1e50",
   "metadata": {},
   "outputs": [
    {
     "name": "stdout",
     "output_type": "stream",
     "text": [
      "Status Code: 200\n"
     ]
    }
   ],
   "source": [
    "requisicao_api(url)"
   ]
  },
  {
   "cell_type": "markdown",
   "id": "fa4c82b7",
   "metadata": {},
   "source": [
    "### 5. Lendo o arquivo JSON salvo e transformando em DataFrame"
   ]
  },
  {
   "cell_type": "code",
   "execution_count": 112,
   "id": "c6a43493",
   "metadata": {},
   "outputs": [],
   "source": [
    "jsondata = pd.read_json('datasets/resultadoPeriodo.json')\n",
    "\n",
    "dados_periodo_df = pd.json_normalize(jsondata['value'])"
   ]
  },
  {
   "cell_type": "markdown",
   "id": "8bc92f44",
   "metadata": {},
   "source": [
    "### 6. Visualizando as primeiras linhas do DataFrame"
   ]
  },
  {
   "cell_type": "code",
   "execution_count": 113,
   "id": "1dfbebfa",
   "metadata": {},
   "outputs": [
    {
     "data": {
      "application/vnd.microsoft.datawrangler.viewer.v0+json": {
       "columns": [
        {
         "name": "index",
         "rawType": "int64",
         "type": "integer"
        },
        {
         "name": "cotacaoCompra",
         "rawType": "float64",
         "type": "float"
        },
        {
         "name": "cotacaoVenda",
         "rawType": "float64",
         "type": "float"
        },
        {
         "name": "dataHoraCotacao",
         "rawType": "object",
         "type": "string"
        }
       ],
       "ref": "974e4f41-930e-4b7b-9e2e-9b94f19b9ced",
       "rows": [
        [
         "0",
         "5.343",
         "5.3436",
         "2023-01-02 13:05:57.593"
        ],
        [
         "1",
         "5.3753",
         "5.3759",
         "2023-01-03 13:11:19.08"
        ],
        [
         "2",
         "5.4453",
         "5.4459",
         "2023-01-04 13:09:19.572"
        ],
        [
         "3",
         "5.402",
         "5.4026",
         "2023-01-05 13:03:32.262"
        ],
        [
         "4",
         "5.2849",
         "5.2855",
         "2023-01-06 13:02:28.727"
        ]
       ],
       "shape": {
        "columns": 3,
        "rows": 5
       }
      },
      "text/html": [
       "<div>\n",
       "<style scoped>\n",
       "    .dataframe tbody tr th:only-of-type {\n",
       "        vertical-align: middle;\n",
       "    }\n",
       "\n",
       "    .dataframe tbody tr th {\n",
       "        vertical-align: top;\n",
       "    }\n",
       "\n",
       "    .dataframe thead th {\n",
       "        text-align: right;\n",
       "    }\n",
       "</style>\n",
       "<table border=\"1\" class=\"dataframe\">\n",
       "  <thead>\n",
       "    <tr style=\"text-align: right;\">\n",
       "      <th></th>\n",
       "      <th>cotacaoCompra</th>\n",
       "      <th>cotacaoVenda</th>\n",
       "      <th>dataHoraCotacao</th>\n",
       "    </tr>\n",
       "  </thead>\n",
       "  <tbody>\n",
       "    <tr>\n",
       "      <th>0</th>\n",
       "      <td>5.3430</td>\n",
       "      <td>5.3436</td>\n",
       "      <td>2023-01-02 13:05:57.593</td>\n",
       "    </tr>\n",
       "    <tr>\n",
       "      <th>1</th>\n",
       "      <td>5.3753</td>\n",
       "      <td>5.3759</td>\n",
       "      <td>2023-01-03 13:11:19.08</td>\n",
       "    </tr>\n",
       "    <tr>\n",
       "      <th>2</th>\n",
       "      <td>5.4453</td>\n",
       "      <td>5.4459</td>\n",
       "      <td>2023-01-04 13:09:19.572</td>\n",
       "    </tr>\n",
       "    <tr>\n",
       "      <th>3</th>\n",
       "      <td>5.4020</td>\n",
       "      <td>5.4026</td>\n",
       "      <td>2023-01-05 13:03:32.262</td>\n",
       "    </tr>\n",
       "    <tr>\n",
       "      <th>4</th>\n",
       "      <td>5.2849</td>\n",
       "      <td>5.2855</td>\n",
       "      <td>2023-01-06 13:02:28.727</td>\n",
       "    </tr>\n",
       "  </tbody>\n",
       "</table>\n",
       "</div>"
      ],
      "text/plain": [
       "   cotacaoCompra  cotacaoVenda          dataHoraCotacao\n",
       "0         5.3430        5.3436  2023-01-02 13:05:57.593\n",
       "1         5.3753        5.3759   2023-01-03 13:11:19.08\n",
       "2         5.4453        5.4459  2023-01-04 13:09:19.572\n",
       "3         5.4020        5.4026  2023-01-05 13:03:32.262\n",
       "4         5.2849        5.2855  2023-01-06 13:02:28.727"
      ]
     },
     "execution_count": 113,
     "metadata": {},
     "output_type": "execute_result"
    }
   ],
   "source": [
    "dados_periodo_df.head()"
   ]
  },
  {
   "cell_type": "markdown",
   "id": "a1f7f0ba",
   "metadata": {},
   "source": [
    "### 7. Função para salvar o DataFrame em CSV"
   ]
  },
  {
   "cell_type": "code",
   "execution_count": 114,
   "id": "febd5230",
   "metadata": {},
   "outputs": [],
   "source": [
    "def saveCsv(df: pd.DataFrame, nome_arquivo: str, separator: str, dec: str):\n",
    "    df.to_csv(nome_arquivo, sep=separator, decimal=dec, index=False, encoding='utf-8-sig')"
   ]
  },
  {
   "cell_type": "markdown",
   "id": "cf19fabf",
   "metadata": {},
   "source": [
    "### 8. Definindo o caminho para salvar o CSV e salvando os dados"
   ]
  },
  {
   "cell_type": "code",
   "execution_count": 115,
   "id": "5ab89def",
   "metadata": {},
   "outputs": [
    {
     "name": "stdout",
     "output_type": "stream",
     "text": [
      "DataFrame salvo com sucesso em: ./datasets/dados_periodo_csv.csv\n"
     ]
    }
   ],
   "source": [
    "cambio_periodo_csv = './datasets/dados_periodo_csv.csv'\n",
    "\n",
    "saveCsv(dados_periodo_df, cambio_periodo_csv, separator=';', dec=',')\n",
    "\n",
    "print(f\"DataFrame salvo com sucesso em: {cambio_periodo_csv}\")\n"
   ]
  }
 ],
 "metadata": {
  "kernelspec": {
   "display_name": ".venv",
   "language": "python",
   "name": "python3"
  },
  "language_info": {
   "codemirror_mode": {
    "name": "ipython",
    "version": 3
   },
   "file_extension": ".py",
   "mimetype": "text/x-python",
   "name": "python",
   "nbconvert_exporter": "python",
   "pygments_lexer": "ipython3",
   "version": "3.10.11"
  }
 },
 "nbformat": 4,
 "nbformat_minor": 5
}
