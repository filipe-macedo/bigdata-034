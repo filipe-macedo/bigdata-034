{
 "cells": [
  {
   "cell_type": "markdown",
   "id": "8e965bd8",
   "metadata": {},
   "source": [
    "## _*Franco Suíço*_ - Boletim - Paridade e Cotação de moeda por data"
   ]
  },
  {
   "cell_type": "markdown",
   "id": "6c14c174",
   "metadata": {},
   "source": [
    "- Retorna os boletins diários com a Paridade de Compra e a Paridade de Venda, a Cotação de Compra e a Cotação de Venda para a data da moeda consultada. São cinco boletins para cada data, um de abertura, três intermediários e um de fechamento.\n",
    "\n",
    "*Parâmetros*\n",
    "\n",
    "| Nome        | Tipo     | Título               | Descrição                                                                                                                                                                |\n",
    "|-------------|----------|----------------------|---------------------------------------------------------------------------------------------------------------------------------------------------------------------------|\n",
    "| moeda       | texto    | Moeda                | Código texto da moeda cujas cotações e paridades serão consultadas. Formato - MMM: Três letras. Exemplo: EUR. As moedas que estão disponíveis podem ser consultadas no recurso 'Moedas'. |\n",
    "| dataCotacao | texto    | Data da cotação      | Data da cotação - informar no padrão 'MM-DD-AAAA'.                                                                                                                       |\n",
    "| $format     | texto    | $format              | Tipo de conteúdo que será retornado.                                                                                                                                      |\n",
    "| $select     | texto    | $select              | Propriedades que serão retornadas.                                                                                                                                        |\n",
    "| $filter     | texto    | $filter              | Filtro de seleção de entidades. e.g. Nome eq 'João'. Clique aqui para as opções de operadores e funções.                                                                 |\n",
    "| $orderby    | texto    | $orderby             | Propriedades para ordenação das entidades. e.g. Nome asc, Idade desc.                                                                                                     |\n",
    "| $skip       | inteiro  | $skip                | Índice (maior ou igual a zero) da primeira entidade que será retornada.                                                                                                   |\n",
    "| $top        | inteiro  | $top                 | Número máximo (maior que zero) de entidades que serão retornadas.                                                                                                         |\n",
    "\n",
    "\n",
    "*Resultado*\n",
    "\n",
    "| Nome             | Tipo    | Título                | Descrição                                                                                                                                                        |\n",
    "|------------------|---------|------------------------|--------------------------------------------------------------------------------------------------------------------------------------------------------------------|\n",
    "| paridadeCompra   | decimal | Paridade de compra     | Paridade de compra da moeda consultada contra o dólar: Moedas tipo A: USD/[moeda]. Moedas tipo B: [moeda]/USD.                                                   |\n",
    "| paridadeVenda    | decimal | Paridade de venda      | Paridade de venda da moeda consultada contra o dólar: Moedas tipo A: USD/[moeda]. Moedas tipo B: [moeda]/USD.                                                    |\n",
    "| cotacaoCompra    | decimal | Cotação de compra      | Cotação de compra da moeda consultada contra a unidade monetária corrente: unidade monetária corrente/[moeda].                                                    |\n",
    "| cotacaoVenda     | decimal | Cotação de venda       | Cotação de venda da moeda consultada contra a unidade monetária corrente: unidade monetária corrente/[moeda].                                                     |\n",
    "| dataHoraCotacao  | texto   | Data e hora da cotação | Data, hora e minuto das paridades e cotações.                                                                                                                      |\n",
    "| tipoBoletim      | texto   | Tipo do boletim        | Tipo das paridades e cotações para aquela data e hora. Podem ser dos tipos: Abertura, Intermediário, Fechamento Interbancário ou Fechamento.                     |\n"
   ]
  },
  {
   "cell_type": "markdown",
   "id": "cd80dcfc",
   "metadata": {},
   "source": [
    "### 1. Importando bibliotecas necessárias"
   ]
  },
  {
   "cell_type": "code",
   "execution_count": 9,
   "id": "54e114d1",
   "metadata": {},
   "outputs": [],
   "source": [
    "import pandas as pd  #possibilita manipulação e análise de dados\n",
    "import requests #possibilita integração com serviços web, solicitações HTTP consumir dados de APIs\n",
    "import json  #manipular arquivo json"
   ]
  },
  {
   "cell_type": "markdown",
   "id": "7c5e9ef9",
   "metadata": {},
   "source": [
    "### 2. Definindo a URL para a requisição da API"
   ]
  },
  {
   "cell_type": "code",
   "execution_count": 10,
   "id": "3b62ad00",
   "metadata": {},
   "outputs": [],
   "source": [
    "url = \"https://olinda.bcb.gov.br/olinda/servico/PTAX/versao/v1/odata/CotacaoMoedaDia(moeda=@moeda,dataCotacao=@dataCotacao)?@moeda='CHF'&@dataCotacao='03-06-2006'&$top=1000&$format=json&$select=paridadeCompra,paridadeVenda,cotacaoCompra,cotacaoVenda,dataHoraCotacao,tipoBoletim\""
   ]
  },
  {
   "cell_type": "markdown",
   "id": "6034eb1c",
   "metadata": {},
   "source": [
    "### 3. Criando a função para fazer a requisição e salvar o JSON na pasta Datasets"
   ]
  },
  {
   "cell_type": "code",
   "execution_count": 11,
   "id": "8cf85ca5",
   "metadata": {},
   "outputs": [],
   "source": [
    "def requisicao_api(link):\n",
    "  resposta = requests.get(link)\n",
    "\n",
    "  if resposta.status_code == 200:      #sucesso na requisição\n",
    "    dados = resposta.json()\n",
    "    print('Status Code:', resposta.status_code)\n",
    "    with open('datasets/chfDia.json', 'w', encoding='utf-8') as arquivo:   #salvar arquivo json\n",
    "      json.dump(dados, arquivo, ensure_ascii=False, indent=4)\n",
    "\n",
    "  else:\n",
    "    print('Status Code:', resposta.status_code)"
   ]
  },
  {
   "cell_type": "markdown",
   "id": "60d92744",
   "metadata": {},
   "source": [
    "### 4. Executando a função para buscar os dados"
   ]
  },
  {
   "cell_type": "code",
   "execution_count": 12,
   "id": "ca2070b2",
   "metadata": {},
   "outputs": [
    {
     "name": "stdout",
     "output_type": "stream",
     "text": [
      "Status Code: 200\n"
     ]
    }
   ],
   "source": [
    "requisicao_api (url)"
   ]
  },
  {
   "cell_type": "markdown",
   "id": "aaf8247e",
   "metadata": {},
   "source": [
    "### 5. Lendo o arquivo JSON salvo e transformando em DataFrame"
   ]
  },
  {
   "cell_type": "code",
   "execution_count": 13,
   "id": "06bd370a",
   "metadata": {},
   "outputs": [],
   "source": [
    "jsondata = pd.read_json('datasets/chfDia.json')\n",
    "\n",
    "dados_df = pd.json_normalize(jsondata['value'])"
   ]
  },
  {
   "cell_type": "markdown",
   "id": "dc1748e6",
   "metadata": {},
   "source": [
    "### 6. Visualizando as primeiras linhas do DataFrame"
   ]
  },
  {
   "cell_type": "code",
   "execution_count": 14,
   "id": "a4e21920",
   "metadata": {},
   "outputs": [
    {
     "data": {
      "application/vnd.microsoft.datawrangler.viewer.v0+json": {
       "columns": [
        {
         "name": "index",
         "rawType": "int64",
         "type": "integer"
        },
        {
         "name": "paridadeCompra",
         "rawType": "float64",
         "type": "float"
        },
        {
         "name": "paridadeVenda",
         "rawType": "float64",
         "type": "float"
        },
        {
         "name": "cotacaoCompra",
         "rawType": "float64",
         "type": "float"
        },
        {
         "name": "cotacaoVenda",
         "rawType": "float64",
         "type": "float"
        },
        {
         "name": "dataHoraCotacao",
         "rawType": "object",
         "type": "string"
        },
        {
         "name": "tipoBoletim",
         "rawType": "object",
         "type": "string"
        }
       ],
       "ref": "240c7410-9705-4f66-8364-38243a6bf3ef",
       "rows": [
        [
         "0",
         "1.2969",
         "1.2973",
         "1.62877",
         "1.63698",
         "2006-03-06 09:19:00.0",
         "Abertura"
        ],
        [
         "1",
         "1.2974",
         "1.2977",
         "1.63443",
         "1.63712",
         "2006-03-06 09:30:00.0",
         "Intermediário"
        ],
        [
         "2",
         "1.2979",
         "1.2984",
         "1.6343200000000002",
         "1.63649",
         "2006-03-06 10:00:00.0",
         "Intermediário"
        ],
        [
         "3",
         "1.2986",
         "1.2991000000000001",
         "1.63267",
         "1.63484",
         "2006-03-06 10:30:00.0",
         "Intermediário"
        ],
        [
         "4",
         "1.298",
         "1.2982",
         "1.6330300000000002",
         "1.63405",
         "2006-03-06 11:00:00.0",
         "Intermediário"
        ]
       ],
       "shape": {
        "columns": 6,
        "rows": 5
       }
      },
      "text/html": [
       "<div>\n",
       "<style scoped>\n",
       "    .dataframe tbody tr th:only-of-type {\n",
       "        vertical-align: middle;\n",
       "    }\n",
       "\n",
       "    .dataframe tbody tr th {\n",
       "        vertical-align: top;\n",
       "    }\n",
       "\n",
       "    .dataframe thead th {\n",
       "        text-align: right;\n",
       "    }\n",
       "</style>\n",
       "<table border=\"1\" class=\"dataframe\">\n",
       "  <thead>\n",
       "    <tr style=\"text-align: right;\">\n",
       "      <th></th>\n",
       "      <th>paridadeCompra</th>\n",
       "      <th>paridadeVenda</th>\n",
       "      <th>cotacaoCompra</th>\n",
       "      <th>cotacaoVenda</th>\n",
       "      <th>dataHoraCotacao</th>\n",
       "      <th>tipoBoletim</th>\n",
       "    </tr>\n",
       "  </thead>\n",
       "  <tbody>\n",
       "    <tr>\n",
       "      <th>0</th>\n",
       "      <td>1.2969</td>\n",
       "      <td>1.2973</td>\n",
       "      <td>1.62877</td>\n",
       "      <td>1.63698</td>\n",
       "      <td>2006-03-06 09:19:00.0</td>\n",
       "      <td>Abertura</td>\n",
       "    </tr>\n",
       "    <tr>\n",
       "      <th>1</th>\n",
       "      <td>1.2974</td>\n",
       "      <td>1.2977</td>\n",
       "      <td>1.63443</td>\n",
       "      <td>1.63712</td>\n",
       "      <td>2006-03-06 09:30:00.0</td>\n",
       "      <td>Intermediário</td>\n",
       "    </tr>\n",
       "    <tr>\n",
       "      <th>2</th>\n",
       "      <td>1.2979</td>\n",
       "      <td>1.2984</td>\n",
       "      <td>1.63432</td>\n",
       "      <td>1.63649</td>\n",
       "      <td>2006-03-06 10:00:00.0</td>\n",
       "      <td>Intermediário</td>\n",
       "    </tr>\n",
       "    <tr>\n",
       "      <th>3</th>\n",
       "      <td>1.2986</td>\n",
       "      <td>1.2991</td>\n",
       "      <td>1.63267</td>\n",
       "      <td>1.63484</td>\n",
       "      <td>2006-03-06 10:30:00.0</td>\n",
       "      <td>Intermediário</td>\n",
       "    </tr>\n",
       "    <tr>\n",
       "      <th>4</th>\n",
       "      <td>1.2980</td>\n",
       "      <td>1.2982</td>\n",
       "      <td>1.63303</td>\n",
       "      <td>1.63405</td>\n",
       "      <td>2006-03-06 11:00:00.0</td>\n",
       "      <td>Intermediário</td>\n",
       "    </tr>\n",
       "  </tbody>\n",
       "</table>\n",
       "</div>"
      ],
      "text/plain": [
       "   paridadeCompra  paridadeVenda  cotacaoCompra  cotacaoVenda  \\\n",
       "0          1.2969         1.2973        1.62877       1.63698   \n",
       "1          1.2974         1.2977        1.63443       1.63712   \n",
       "2          1.2979         1.2984        1.63432       1.63649   \n",
       "3          1.2986         1.2991        1.63267       1.63484   \n",
       "4          1.2980         1.2982        1.63303       1.63405   \n",
       "\n",
       "         dataHoraCotacao    tipoBoletim  \n",
       "0  2006-03-06 09:19:00.0       Abertura  \n",
       "1  2006-03-06 09:30:00.0  Intermediário  \n",
       "2  2006-03-06 10:00:00.0  Intermediário  \n",
       "3  2006-03-06 10:30:00.0  Intermediário  \n",
       "4  2006-03-06 11:00:00.0  Intermediário  "
      ]
     },
     "execution_count": 14,
     "metadata": {},
     "output_type": "execute_result"
    }
   ],
   "source": [
    "dados_df.head()"
   ]
  },
  {
   "cell_type": "markdown",
   "id": "65629004",
   "metadata": {},
   "source": [
    "### 7. Função para salvar o DataFrame em CSV"
   ]
  },
  {
   "cell_type": "code",
   "execution_count": 15,
   "id": "7fcc2a5d",
   "metadata": {},
   "outputs": [],
   "source": [
    "def saveCsv(df: pd.DataFrame, nome_arquivo: str, separator: str, dec: str):\n",
    "    df.to_csv(nome_arquivo, sep=separator, decimal=dec, index=False, encoding='utf-8-sig')\n"
   ]
  },
  {
   "cell_type": "markdown",
   "id": "8353b96e",
   "metadata": {},
   "source": [
    "### 8. Definindo o caminho para salvar o CSV e salvando os dados"
   ]
  },
  {
   "cell_type": "code",
   "execution_count": 16,
   "id": "dd86bfae",
   "metadata": {},
   "outputs": [
    {
     "name": "stdout",
     "output_type": "stream",
     "text": [
      "DataFrame salvo com sucesso em: ./datasets/chf_dia_csv.csv\n"
     ]
    }
   ],
   "source": [
    "chf_dia_csv = './datasets/chf_dia_csv.csv'\n",
    "\n",
    "saveCsv(dados_df, chf_dia_csv, separator=';', dec=',')\n",
    "\n",
    "print(f\"DataFrame salvo com sucesso em: {chf_dia_csv}\")"
   ]
  }
 ],
 "metadata": {
  "kernelspec": {
   "display_name": ".venv",
   "language": "python",
   "name": "python3"
  },
  "language_info": {
   "codemirror_mode": {
    "name": "ipython",
    "version": 3
   },
   "file_extension": ".py",
   "mimetype": "text/x-python",
   "name": "python",
   "nbconvert_exporter": "python",
   "pygments_lexer": "ipython3",
   "version": "3.13.2"
  }
 },
 "nbformat": 4,
 "nbformat_minor": 5
}
