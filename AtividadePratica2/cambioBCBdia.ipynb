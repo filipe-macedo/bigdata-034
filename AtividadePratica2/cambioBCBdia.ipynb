{
 "cells": [
  {
   "cell_type": "markdown",
   "id": "8e965bd8",
   "metadata": {},
   "source": [
    "## Dólar comercial (venda e compra) - cotações diárias e Taxas de Câmbio - todos os boletins diários - v1"
   ]
  },
  {
   "cell_type": "markdown",
   "id": "6c14c174",
   "metadata": {},
   "source": [
    "- Retorna a Cotação de Compra e a Cotação de Venda da moeda Dólar contra a unidade monetária corrente para a data informada.\n",
    "\n",
    "*Resultado*\n",
    "\n",
    "| Nome           | Tipo    | Título          | Descrição                                                                                           |\n",
    "|----------------|---------|-----------------|---------------------------------------------------------------------------------------------------|\n",
    "| cotacaoCompra  | decimal | Cotação de compra| Cotação de compra do dólar contra a unidade monetária corrente: unidade monetária corrente/dólar americano. |\n",
    "| cotacaoVenda   | decimal | Cotação de venda | Cotação de venda do dólar contra a unidade monetária corrente: unidade monetária corrente/dólar americano. |\n",
    "| dataHoraCotacao| texto   | Data e hora da cotação | Data, hora e minuto das cotações de compra e venda.                                               |"
   ]
  },
  {
   "cell_type": "markdown",
   "id": "cd80dcfc",
   "metadata": {},
   "source": [
    "### 1. Importando bibliotecas necessárias"
   ]
  },
  {
   "cell_type": "code",
   "execution_count": 20,
   "id": "54e114d1",
   "metadata": {},
   "outputs": [],
   "source": [
    "import pandas as pd  #possibilita manipulação e análise de dados\n",
    "import requests #possibilita integração com serviços web, solicitações HTTP consumir dados de APIs\n",
    "import json  #manipular arquivo json"
   ]
  },
  {
   "cell_type": "markdown",
   "id": "7c5e9ef9",
   "metadata": {},
   "source": [
    "### 2. Definindo a URL para a requisição da API"
   ]
  },
  {
   "cell_type": "code",
   "execution_count": 21,
   "id": "3b62ad00",
   "metadata": {},
   "outputs": [],
   "source": [
    "url = \"https://olinda.bcb.gov.br/olinda/servico/PTAX/versao/v1/odata/CotacaoDolarDia(dataCotacao=@dataCotacao)?@dataCotacao='03-06-2024'&$top=100000&$format=json&$select=cotacaoCompra,cotacaoVenda,dataHoraCotacao\""
   ]
  },
  {
   "cell_type": "markdown",
   "id": "6034eb1c",
   "metadata": {},
   "source": [
    "### 3. Criando a função para fazer a requisição e salvar o JSON na pasta Datasets"
   ]
  },
  {
   "cell_type": "code",
   "execution_count": 22,
   "id": "8cf85ca5",
   "metadata": {},
   "outputs": [],
   "source": [
    "def requisicao_api(link):\n",
    "  resposta = requests.get(link)\n",
    "\n",
    "  if resposta.status_code == 200:      #sucesso na requisição\n",
    "    dados = resposta.json()\n",
    "    print('Status Code:', resposta.status_code)\n",
    "    with open('datasets/resultadoDia.json', 'w', encoding='utf-8') as arquivo:   #salvar arquivo json\n",
    "      json.dump(dados, arquivo, ensure_ascii=False, indent=4)\n",
    "\n",
    "  else:\n",
    "    print('Status Code:', resposta.status_code)"
   ]
  },
  {
   "cell_type": "markdown",
   "id": "60d92744",
   "metadata": {},
   "source": [
    "### 4. Executando a função para buscar os dados"
   ]
  },
  {
   "cell_type": "code",
   "execution_count": 23,
   "id": "ca2070b2",
   "metadata": {},
   "outputs": [
    {
     "name": "stdout",
     "output_type": "stream",
     "text": [
      "Status Code: 200\n"
     ]
    }
   ],
   "source": [
    "requisicao_api (url)"
   ]
  },
  {
   "cell_type": "markdown",
   "id": "aaf8247e",
   "metadata": {},
   "source": [
    "### 5. Lendo o arquivo JSON salvo e transformando em DataFrame"
   ]
  },
  {
   "cell_type": "code",
   "execution_count": 24,
   "id": "06bd370a",
   "metadata": {},
   "outputs": [],
   "source": [
    "jsondata = pd.read_json('datasets/resultadoDia.json')\n",
    "\n",
    "dados_df = pd.json_normalize(jsondata['value'])"
   ]
  },
  {
   "cell_type": "markdown",
   "id": "dc1748e6",
   "metadata": {},
   "source": [
    "### 6. Visualizando as primeiras linhas do DataFrame"
   ]
  },
  {
   "cell_type": "code",
   "execution_count": 25,
   "id": "a4e21920",
   "metadata": {},
   "outputs": [
    {
     "data": {
      "application/vnd.microsoft.datawrangler.viewer.v0+json": {
       "columns": [
        {
         "name": "index",
         "rawType": "int64",
         "type": "integer"
        },
        {
         "name": "cotacaoCompra",
         "rawType": "float64",
         "type": "float"
        },
        {
         "name": "cotacaoVenda",
         "rawType": "float64",
         "type": "float"
        },
        {
         "name": "dataHoraCotacao",
         "rawType": "object",
         "type": "string"
        }
       ],
       "ref": "ef92a0dc-c9f4-4910-bf56-7226eba876bb",
       "rows": [
        [
         "0",
         "4.9392",
         "4.9398",
         "2024-03-06 14:56:03.471"
        ]
       ],
       "shape": {
        "columns": 3,
        "rows": 1
       }
      },
      "text/html": [
       "<div>\n",
       "<style scoped>\n",
       "    .dataframe tbody tr th:only-of-type {\n",
       "        vertical-align: middle;\n",
       "    }\n",
       "\n",
       "    .dataframe tbody tr th {\n",
       "        vertical-align: top;\n",
       "    }\n",
       "\n",
       "    .dataframe thead th {\n",
       "        text-align: right;\n",
       "    }\n",
       "</style>\n",
       "<table border=\"1\" class=\"dataframe\">\n",
       "  <thead>\n",
       "    <tr style=\"text-align: right;\">\n",
       "      <th></th>\n",
       "      <th>cotacaoCompra</th>\n",
       "      <th>cotacaoVenda</th>\n",
       "      <th>dataHoraCotacao</th>\n",
       "    </tr>\n",
       "  </thead>\n",
       "  <tbody>\n",
       "    <tr>\n",
       "      <th>0</th>\n",
       "      <td>4.9392</td>\n",
       "      <td>4.9398</td>\n",
       "      <td>2024-03-06 14:56:03.471</td>\n",
       "    </tr>\n",
       "  </tbody>\n",
       "</table>\n",
       "</div>"
      ],
      "text/plain": [
       "   cotacaoCompra  cotacaoVenda          dataHoraCotacao\n",
       "0         4.9392        4.9398  2024-03-06 14:56:03.471"
      ]
     },
     "execution_count": 25,
     "metadata": {},
     "output_type": "execute_result"
    }
   ],
   "source": [
    "dados_df.head()"
   ]
  },
  {
   "cell_type": "markdown",
   "id": "65629004",
   "metadata": {},
   "source": [
    "### 7. Função para salvar o DataFrame em CSV"
   ]
  },
  {
   "cell_type": "code",
   "execution_count": 26,
   "id": "7fcc2a5d",
   "metadata": {},
   "outputs": [],
   "source": [
    "def saveCsv(df: pd.DataFrame, nome_arquivo: str, separator: str, dec: str):\n",
    "    df.to_csv(nome_arquivo, sep=separator, decimal=dec, index=False, encoding='utf-8-sig')\n"
   ]
  },
  {
   "cell_type": "markdown",
   "id": "8353b96e",
   "metadata": {},
   "source": [
    "### 8. Definindo o caminho para salvar o CSV e salvando os dados"
   ]
  },
  {
   "cell_type": "code",
   "execution_count": 27,
   "id": "dd86bfae",
   "metadata": {},
   "outputs": [
    {
     "name": "stdout",
     "output_type": "stream",
     "text": [
      "DataFrame salvo com sucesso em: ./datasets/dados_dia_csv.csv\n"
     ]
    }
   ],
   "source": [
    "cambio_dia_csv = './datasets/dados_dia_csv.csv'\n",
    "\n",
    "saveCsv(dados_df, cambio_dia_csv, separator=';', dec=',')\n",
    "\n",
    "print(f\"DataFrame salvo com sucesso em: {cambio_dia_csv}\")"
   ]
  }
 ],
 "metadata": {
  "kernelspec": {
   "display_name": ".venv",
   "language": "python",
   "name": "python3"
  },
  "language_info": {
   "codemirror_mode": {
    "name": "ipython",
    "version": 3
   },
   "file_extension": ".py",
   "mimetype": "text/x-python",
   "name": "python",
   "nbconvert_exporter": "python",
   "pygments_lexer": "ipython3",
   "version": "3.10.11"
  }
 },
 "nbformat": 4,
 "nbformat_minor": 5
}
