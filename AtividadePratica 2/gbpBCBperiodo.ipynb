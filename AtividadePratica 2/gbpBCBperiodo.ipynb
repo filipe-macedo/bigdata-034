{
 "cells": [
  {
   "cell_type": "markdown",
   "id": "8e965bd8",
   "metadata": {},
   "source": [
    "## _*Libra Esterlina*_ - Boletim - Paridade e Cotação de moeda por período"
   ]
  },
  {
   "cell_type": "markdown",
   "id": "6c14c174",
   "metadata": {},
   "source": [
    "- Retorna os boletins diários com a Paridade de Compra e a Paridade de Venda, a Cotação de Compra e a Cotação de Venda para um período da moeda consultada. São cinco boletins para cada data, um de abertura, três intermediários e um de fechamento.\n",
    "\n",
    "*Parâmetros*\n",
    "\n",
    "| Nome              | Tipo     | Título        | Descrição                                                                                                                                                                |\n",
    "|-------------------|----------|---------------|---------------------------------------------------------------------------------------------------------------------------------------------------------------------------|\n",
    "| moeda             | texto    | Moeda         | Código texto da moeda cujas cotações e paridades serão consultadas. Formato - MMM: Três letras. Exemplo: EUR. As moedas disponíveis podem ser consultadas no recurso 'Moedas'. |\n",
    "| dataInicial       | texto    | Data inicial  | Data de início do período de cotação - informar no padrão 'MM-DD-AAAA'.                                                                                                   |\n",
    "| dataFinalCotacao  | texto    | Data final    | Data de fim do período de cotação - informar no padrão 'MM-DD-AAAA'.                                                                                                      |\n",
    "| $format           | texto    | $format       | Tipo de conteúdo que será retornado.                                                                                                                                      |\n",
    "| $select           | texto    | $select       | Propriedades que serão retornadas.                                                                                                                                        |\n",
    "| $filter           | texto    | $filter       | Filtro de seleção de entidades. e.g. Nome eq 'João'. Clique aqui para as opções de operadores e funções.                                                                 |\n",
    "| $orderby          | texto    | $orderby      | Propriedades para ordenação das entidades. e.g. Nome asc, Idade desc.                                                                                                     |\n",
    "| $skip             | inteiro  | $skip         | Índice (maior ou igual a zero) da primeira entidade que será retornada.                                                                                                   |\n",
    "| $top              | inteiro  | $top          | Número máximo (maior que zero) de entidades que serão retornadas.                                                                                                         |\n",
    "\n",
    "\n",
    "*Resultado*\n",
    "\n",
    "| Nome             | Tipo    | Título                | Descrição                                                                                                                                                        |\n",
    "|------------------|---------|------------------------|--------------------------------------------------------------------------------------------------------------------------------------------------------------------|\n",
    "| paridadeCompra   | decimal | Paridade de compra     | Paridade de compra da moeda consultada contra o dólar: Moedas tipo A: USD/[moeda]. Moedas tipo B: [moeda]/USD.                                                   |\n",
    "| paridadeVenda    | decimal | Paridade de venda      | Paridade de venda da moeda consultada contra o dólar: Moedas tipo A: USD/[moeda]. Moedas tipo B: [moeda]/USD.                                                    |\n",
    "| cotacaoCompra    | decimal | Cotação de compra      | Cotação de compra da moeda consultada contra a unidade monetária corrente: unidade monetária corrente/[moeda].                                                    |\n",
    "| cotacaoVenda     | decimal | Cotação de venda       | Cotação de venda da moeda consultada contra a unidade monetária corrente: unidade monetária corrente/[moeda].                                                     |\n",
    "| dataHoraCotacao  | texto   | Data e hora da cotação | Data, hora e minuto das paridades e cotações.                                                                                                                      |\n",
    "| tipoBoletim      | texto   | Tipo do boletim        | Tipo das paridades e cotações para aquela data e hora. Podem ser dos tipos: Abertura, Intermediário, Fechamento Interbancário ou Fechamento.                     |\n",
    "\n"
   ]
  },
  {
   "cell_type": "markdown",
   "id": "cd80dcfc",
   "metadata": {},
   "source": [
    "### 1. Importando bibliotecas necessárias"
   ]
  },
  {
   "cell_type": "code",
   "execution_count": 1,
   "id": "54e114d1",
   "metadata": {},
   "outputs": [],
   "source": [
    "import pandas as pd  #possibilita manipulação e análise de dados\n",
    "import requests #possibilita integração com serviços web, solicitações HTTP consumir dados de APIs\n",
    "import json  #manipular arquivo json"
   ]
  },
  {
   "cell_type": "markdown",
   "id": "7c5e9ef9",
   "metadata": {},
   "source": [
    "### 2. Definindo a URL para a requisição da API"
   ]
  },
  {
   "cell_type": "code",
   "execution_count": 2,
   "id": "3b62ad00",
   "metadata": {},
   "outputs": [],
   "source": [
    "url = \"https://olinda.bcb.gov.br/olinda/servico/PTAX/versao/v1/odata/CotacaoMoedaPeriodo(moeda=@moeda,dataInicial=@dataInicial,dataFinalCotacao=@dataFinalCotacao)?@moeda='GBP'&@dataInicial='01-01-2023'&@dataFinalCotacao='09-01-2025'&$top=1000&$format=json&$select=paridadeCompra,paridadeVenda,cotacaoCompra,cotacaoVenda,dataHoraCotacao,tipoBoletim\""
   ]
  },
  {
   "cell_type": "markdown",
   "id": "6034eb1c",
   "metadata": {},
   "source": [
    "### 3. Criando a função para fazer a requisição e salvar o JSON na pasta Datasets"
   ]
  },
  {
   "cell_type": "code",
   "execution_count": 3,
   "id": "8cf85ca5",
   "metadata": {},
   "outputs": [],
   "source": [
    "def requisicao_api(link):\n",
    "  resposta = requests.get(link)\n",
    "\n",
    "  if resposta.status_code == 200:      #sucesso na requisição\n",
    "    dados = resposta.json()\n",
    "    print('Status Code:', resposta.status_code)\n",
    "    with open('datasets/gbpPeriodo.json', 'w', encoding='utf-8') as arquivo:   #salvar arquivo json\n",
    "      json.dump(dados, arquivo, ensure_ascii=False, indent=4)\n",
    "\n",
    "  else:\n",
    "    print('Status Code:', resposta.status_code)"
   ]
  },
  {
   "cell_type": "markdown",
   "id": "60d92744",
   "metadata": {},
   "source": [
    "### 4. Executando a função para buscar os dados"
   ]
  },
  {
   "cell_type": "code",
   "execution_count": 4,
   "id": "ca2070b2",
   "metadata": {},
   "outputs": [
    {
     "name": "stdout",
     "output_type": "stream",
     "text": [
      "Status Code: 200\n"
     ]
    }
   ],
   "source": [
    "requisicao_api (url)"
   ]
  },
  {
   "cell_type": "markdown",
   "id": "aaf8247e",
   "metadata": {},
   "source": [
    "### 5. Lendo o arquivo JSON salvo e transformando em DataFrame"
   ]
  },
  {
   "cell_type": "code",
   "execution_count": 5,
   "id": "06bd370a",
   "metadata": {},
   "outputs": [],
   "source": [
    "jsondata = pd.read_json('datasets/gbpPeriodo.json')\n",
    "\n",
    "dados_df = pd.json_normalize(jsondata['value'])"
   ]
  },
  {
   "cell_type": "markdown",
   "id": "dc1748e6",
   "metadata": {},
   "source": [
    "### 6. Visualizando as primeiras linhas do DataFrame"
   ]
  },
  {
   "cell_type": "code",
   "execution_count": 6,
   "id": "a4e21920",
   "metadata": {},
   "outputs": [
    {
     "data": {
      "application/vnd.microsoft.datawrangler.viewer.v0+json": {
       "columns": [
        {
         "name": "index",
         "rawType": "int64",
         "type": "integer"
        },
        {
         "name": "paridadeCompra",
         "rawType": "float64",
         "type": "float"
        },
        {
         "name": "paridadeVenda",
         "rawType": "float64",
         "type": "float"
        },
        {
         "name": "cotacaoCompra",
         "rawType": "float64",
         "type": "float"
        },
        {
         "name": "cotacaoVenda",
         "rawType": "float64",
         "type": "float"
        },
        {
         "name": "dataHoraCotacao",
         "rawType": "object",
         "type": "string"
        },
        {
         "name": "tipoBoletim",
         "rawType": "object",
         "type": "string"
        }
       ],
       "ref": "6b5619f5-1b31-46cd-8a8d-a89ea86bef95",
       "rows": [
        [
         "0",
         "1.2049",
         "1.2053",
         "6.4287",
         "6.4316",
         "2023-01-02 10:11:18.511",
         "Abertura"
        ],
        [
         "1",
         "1.2052",
         "1.2053",
         "6.4524",
         "6.4537",
         "2023-01-02 11:05:17.032",
         "Intermediário"
        ],
        [
         "2",
         "1.2047",
         "1.2052",
         "6.441",
         "6.4444",
         "2023-01-02 12:10:16.594",
         "Intermediário"
        ],
        [
         "3",
         "1.2042",
         "1.2046000000000001",
         "6.4257",
         "6.4286",
         "2023-01-02 13:05:57.582",
         "Intermediário"
        ],
        [
         "4",
         "1.2042",
         "1.2046000000000001",
         "6.434",
         "6.4369",
         "2023-01-02 13:05:57.593",
         "Fechamento"
        ]
       ],
       "shape": {
        "columns": 6,
        "rows": 5
       }
      },
      "text/html": [
       "<div>\n",
       "<style scoped>\n",
       "    .dataframe tbody tr th:only-of-type {\n",
       "        vertical-align: middle;\n",
       "    }\n",
       "\n",
       "    .dataframe tbody tr th {\n",
       "        vertical-align: top;\n",
       "    }\n",
       "\n",
       "    .dataframe thead th {\n",
       "        text-align: right;\n",
       "    }\n",
       "</style>\n",
       "<table border=\"1\" class=\"dataframe\">\n",
       "  <thead>\n",
       "    <tr style=\"text-align: right;\">\n",
       "      <th></th>\n",
       "      <th>paridadeCompra</th>\n",
       "      <th>paridadeVenda</th>\n",
       "      <th>cotacaoCompra</th>\n",
       "      <th>cotacaoVenda</th>\n",
       "      <th>dataHoraCotacao</th>\n",
       "      <th>tipoBoletim</th>\n",
       "    </tr>\n",
       "  </thead>\n",
       "  <tbody>\n",
       "    <tr>\n",
       "      <th>0</th>\n",
       "      <td>1.2049</td>\n",
       "      <td>1.2053</td>\n",
       "      <td>6.4287</td>\n",
       "      <td>6.4316</td>\n",
       "      <td>2023-01-02 10:11:18.511</td>\n",
       "      <td>Abertura</td>\n",
       "    </tr>\n",
       "    <tr>\n",
       "      <th>1</th>\n",
       "      <td>1.2052</td>\n",
       "      <td>1.2053</td>\n",
       "      <td>6.4524</td>\n",
       "      <td>6.4537</td>\n",
       "      <td>2023-01-02 11:05:17.032</td>\n",
       "      <td>Intermediário</td>\n",
       "    </tr>\n",
       "    <tr>\n",
       "      <th>2</th>\n",
       "      <td>1.2047</td>\n",
       "      <td>1.2052</td>\n",
       "      <td>6.4410</td>\n",
       "      <td>6.4444</td>\n",
       "      <td>2023-01-02 12:10:16.594</td>\n",
       "      <td>Intermediário</td>\n",
       "    </tr>\n",
       "    <tr>\n",
       "      <th>3</th>\n",
       "      <td>1.2042</td>\n",
       "      <td>1.2046</td>\n",
       "      <td>6.4257</td>\n",
       "      <td>6.4286</td>\n",
       "      <td>2023-01-02 13:05:57.582</td>\n",
       "      <td>Intermediário</td>\n",
       "    </tr>\n",
       "    <tr>\n",
       "      <th>4</th>\n",
       "      <td>1.2042</td>\n",
       "      <td>1.2046</td>\n",
       "      <td>6.4340</td>\n",
       "      <td>6.4369</td>\n",
       "      <td>2023-01-02 13:05:57.593</td>\n",
       "      <td>Fechamento</td>\n",
       "    </tr>\n",
       "  </tbody>\n",
       "</table>\n",
       "</div>"
      ],
      "text/plain": [
       "   paridadeCompra  paridadeVenda  cotacaoCompra  cotacaoVenda  \\\n",
       "0          1.2049         1.2053         6.4287        6.4316   \n",
       "1          1.2052         1.2053         6.4524        6.4537   \n",
       "2          1.2047         1.2052         6.4410        6.4444   \n",
       "3          1.2042         1.2046         6.4257        6.4286   \n",
       "4          1.2042         1.2046         6.4340        6.4369   \n",
       "\n",
       "           dataHoraCotacao    tipoBoletim  \n",
       "0  2023-01-02 10:11:18.511       Abertura  \n",
       "1  2023-01-02 11:05:17.032  Intermediário  \n",
       "2  2023-01-02 12:10:16.594  Intermediário  \n",
       "3  2023-01-02 13:05:57.582  Intermediário  \n",
       "4  2023-01-02 13:05:57.593     Fechamento  "
      ]
     },
     "execution_count": 6,
     "metadata": {},
     "output_type": "execute_result"
    }
   ],
   "source": [
    "dados_df.head()"
   ]
  },
  {
   "cell_type": "markdown",
   "id": "65629004",
   "metadata": {},
   "source": [
    "### 7. Função para salvar o DataFrame em CSV"
   ]
  },
  {
   "cell_type": "code",
   "execution_count": 7,
   "id": "7fcc2a5d",
   "metadata": {},
   "outputs": [],
   "source": [
    "def saveCsv(df: pd.DataFrame, nome_arquivo: str, separator: str, dec: str):\n",
    "    df.to_csv(nome_arquivo, sep=separator, decimal=dec, index=False, encoding='utf-8-sig')\n"
   ]
  },
  {
   "cell_type": "markdown",
   "id": "8353b96e",
   "metadata": {},
   "source": [
    "### 8. Definindo o caminho para salvar o CSV e salvando os dados"
   ]
  },
  {
   "cell_type": "code",
   "execution_count": 8,
   "id": "dd86bfae",
   "metadata": {},
   "outputs": [
    {
     "name": "stdout",
     "output_type": "stream",
     "text": [
      "DataFrame salvo com sucesso em: ./datasets/gbp_periodo.csv\n"
     ]
    }
   ],
   "source": [
    "gbp_periodo_csv = './datasets/gbp_periodo.csv'\n",
    "\n",
    "saveCsv(dados_df, gbp_periodo_csv, separator=';', dec=',')\n",
    "\n",
    "print(f\"DataFrame salvo com sucesso em: {gbp_periodo_csv}\")"
   ]
  }
 ],
 "metadata": {
  "kernelspec": {
   "display_name": ".venv",
   "language": "python",
   "name": "python3"
  },
  "language_info": {
   "codemirror_mode": {
    "name": "ipython",
    "version": 3
   },
   "file_extension": ".py",
   "mimetype": "text/x-python",
   "name": "python",
   "nbconvert_exporter": "python",
   "pygments_lexer": "ipython3",
   "version": "3.13.2"
  }
 },
 "nbformat": 4,
 "nbformat_minor": 5
}
